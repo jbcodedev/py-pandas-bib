{
 "cells": [
  {
   "cell_type": "markdown",
   "metadata": {},
   "source": [
    "# <font color=green> **Challenge Pandas 01**"
   ]
  },
  {
   "cell_type": "markdown",
   "metadata": {},
   "source": [
    "Challenge 01\n",
    "\n",
    "- Importa el archivo alumnos.csv y almacena su contenido en un DataFrame de Pandas.\n",
    "- Visualiza las primeras 7 filas del DataFrame y las últimas 5.\n",
    "- Verifica la cantidad de filas y columnas en este DataFrame.\n",
    "- Explora las columnas del DataFrame y analiza los tipos de datos presentes en cada columna.\n",
    "\n",
    "Extra: Calcula algunas estadísticas descriptivas básicas de los datos en el DataFrame (media, desviación estándar, etc.). Pista: busca el método \"describe\"."
   ]
  }
 ],
 "metadata": {
  "language_info": {
   "name": "python"
  }
 },
 "nbformat": 4,
 "nbformat_minor": 2
}
